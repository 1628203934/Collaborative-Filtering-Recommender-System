{
 "cells": [
  {
   "cell_type": "markdown",
   "id": "2e93f2b4",
   "metadata": {},
   "source": [
    "# Import libraries"
   ]
  },
  {
   "cell_type": "code",
   "execution_count": 99,
   "id": "47266354",
   "metadata": {},
   "outputs": [],
   "source": [
    "import pandas as pd\n",
    "import numpy as np \n",
    "import sklearn\n",
    "from sklearn.metrics.pairwise import cosine_similarity"
   ]
  },
  {
   "cell_type": "markdown",
   "id": "cdd3220a",
   "metadata": {},
   "source": [
    "# Read in data files"
   ]
  },
  {
   "cell_type": "code",
   "execution_count": 62,
   "id": "34ffe918",
   "metadata": {},
   "outputs": [
    {
     "data": {
      "text/html": [
       "<div>\n",
       "<style scoped>\n",
       "    .dataframe tbody tr th:only-of-type {\n",
       "        vertical-align: middle;\n",
       "    }\n",
       "\n",
       "    .dataframe tbody tr th {\n",
       "        vertical-align: top;\n",
       "    }\n",
       "\n",
       "    .dataframe thead th {\n",
       "        text-align: right;\n",
       "    }\n",
       "</style>\n",
       "<table border=\"1\" class=\"dataframe\">\n",
       "  <thead>\n",
       "    <tr style=\"text-align: right;\">\n",
       "      <th></th>\n",
       "      <th>UserId</th>\n",
       "      <th>MovieId</th>\n",
       "      <th>Rating</th>\n",
       "      <th>Timestamp</th>\n",
       "      <th>Title</th>\n",
       "      <th>Genres</th>\n",
       "    </tr>\n",
       "  </thead>\n",
       "  <tbody>\n",
       "    <tr>\n",
       "      <th>0</th>\n",
       "      <td>1</td>\n",
       "      <td>1193</td>\n",
       "      <td>5</td>\n",
       "      <td>978300760</td>\n",
       "      <td>One Flew Over the Cuckoo's Nest (1975)</td>\n",
       "      <td>Drama</td>\n",
       "    </tr>\n",
       "    <tr>\n",
       "      <th>1</th>\n",
       "      <td>2</td>\n",
       "      <td>1193</td>\n",
       "      <td>5</td>\n",
       "      <td>978298413</td>\n",
       "      <td>One Flew Over the Cuckoo's Nest (1975)</td>\n",
       "      <td>Drama</td>\n",
       "    </tr>\n",
       "    <tr>\n",
       "      <th>2</th>\n",
       "      <td>12</td>\n",
       "      <td>1193</td>\n",
       "      <td>4</td>\n",
       "      <td>978220179</td>\n",
       "      <td>One Flew Over the Cuckoo's Nest (1975)</td>\n",
       "      <td>Drama</td>\n",
       "    </tr>\n",
       "    <tr>\n",
       "      <th>3</th>\n",
       "      <td>15</td>\n",
       "      <td>1193</td>\n",
       "      <td>4</td>\n",
       "      <td>978199279</td>\n",
       "      <td>One Flew Over the Cuckoo's Nest (1975)</td>\n",
       "      <td>Drama</td>\n",
       "    </tr>\n",
       "    <tr>\n",
       "      <th>4</th>\n",
       "      <td>17</td>\n",
       "      <td>1193</td>\n",
       "      <td>5</td>\n",
       "      <td>978158471</td>\n",
       "      <td>One Flew Over the Cuckoo's Nest (1975)</td>\n",
       "      <td>Drama</td>\n",
       "    </tr>\n",
       "  </tbody>\n",
       "</table>\n",
       "</div>"
      ],
      "text/plain": [
       "   UserId  MovieId  Rating  Timestamp                                   Title  \\\n",
       "0       1     1193       5  978300760  One Flew Over the Cuckoo's Nest (1975)   \n",
       "1       2     1193       5  978298413  One Flew Over the Cuckoo's Nest (1975)   \n",
       "2      12     1193       4  978220179  One Flew Over the Cuckoo's Nest (1975)   \n",
       "3      15     1193       4  978199279  One Flew Over the Cuckoo's Nest (1975)   \n",
       "4      17     1193       5  978158471  One Flew Over the Cuckoo's Nest (1975)   \n",
       "\n",
       "  Genres  \n",
       "0  Drama  \n",
       "1  Drama  \n",
       "2  Drama  \n",
       "3  Drama  \n",
       "4  Drama  "
      ]
     },
     "execution_count": 62,
     "metadata": {},
     "output_type": "execute_result"
    }
   ],
   "source": [
    "ratings = pd.read_csv('ratings.dat', sep='::', engine='python', names=['UserId', 'MovieId', 'Rating', 'Timestamp'], header=None)\n",
    "movies = pd.read_csv('movies.dat', sep='::', engine='python', names=['MovieId', 'Title', 'Genres'], header=None, encoding='latin1')\n",
    "ratings = pd.merge(ratings, movies, on='MovieId')\n",
    "ratings.head()"
   ]
  },
  {
   "cell_type": "markdown",
   "id": "40ee06e5",
   "metadata": {},
   "source": [
    "# Data Exploration"
   ]
  },
  {
   "cell_type": "code",
   "execution_count": 63,
   "id": "d75070bf",
   "metadata": {},
   "outputs": [
    {
     "name": "stdout",
     "output_type": "stream",
     "text": [
      "\n",
      " Size of the movie_df dataset is (1000209, 6)\n"
     ]
    }
   ],
   "source": [
    "print(f\"\\n Size of the movie_df dataset is {ratings.shape}\")"
   ]
  },
  {
   "cell_type": "code",
   "execution_count": 64,
   "id": "983bf1e4",
   "metadata": {},
   "outputs": [
    {
     "data": {
      "text/html": [
       "<div>\n",
       "<style scoped>\n",
       "    .dataframe tbody tr th:only-of-type {\n",
       "        vertical-align: middle;\n",
       "    }\n",
       "\n",
       "    .dataframe tbody tr th {\n",
       "        vertical-align: top;\n",
       "    }\n",
       "\n",
       "    .dataframe thead th {\n",
       "        text-align: right;\n",
       "    }\n",
       "</style>\n",
       "<table border=\"1\" class=\"dataframe\">\n",
       "  <thead>\n",
       "    <tr style=\"text-align: right;\">\n",
       "      <th></th>\n",
       "      <th>UserId</th>\n",
       "      <th>MovieId</th>\n",
       "      <th>Rating</th>\n",
       "      <th>Timestamp</th>\n",
       "    </tr>\n",
       "  </thead>\n",
       "  <tbody>\n",
       "    <tr>\n",
       "      <th>count</th>\n",
       "      <td>1.000209e+06</td>\n",
       "      <td>1.000209e+06</td>\n",
       "      <td>1.000209e+06</td>\n",
       "      <td>1.000209e+06</td>\n",
       "    </tr>\n",
       "    <tr>\n",
       "      <th>mean</th>\n",
       "      <td>3.024512e+03</td>\n",
       "      <td>1.865540e+03</td>\n",
       "      <td>3.581564e+00</td>\n",
       "      <td>9.722437e+08</td>\n",
       "    </tr>\n",
       "    <tr>\n",
       "      <th>std</th>\n",
       "      <td>1.728413e+03</td>\n",
       "      <td>1.096041e+03</td>\n",
       "      <td>1.117102e+00</td>\n",
       "      <td>1.215256e+07</td>\n",
       "    </tr>\n",
       "    <tr>\n",
       "      <th>min</th>\n",
       "      <td>1.000000e+00</td>\n",
       "      <td>1.000000e+00</td>\n",
       "      <td>1.000000e+00</td>\n",
       "      <td>9.567039e+08</td>\n",
       "    </tr>\n",
       "    <tr>\n",
       "      <th>25%</th>\n",
       "      <td>1.506000e+03</td>\n",
       "      <td>1.030000e+03</td>\n",
       "      <td>3.000000e+00</td>\n",
       "      <td>9.653026e+08</td>\n",
       "    </tr>\n",
       "    <tr>\n",
       "      <th>50%</th>\n",
       "      <td>3.070000e+03</td>\n",
       "      <td>1.835000e+03</td>\n",
       "      <td>4.000000e+00</td>\n",
       "      <td>9.730180e+08</td>\n",
       "    </tr>\n",
       "    <tr>\n",
       "      <th>75%</th>\n",
       "      <td>4.476000e+03</td>\n",
       "      <td>2.770000e+03</td>\n",
       "      <td>4.000000e+00</td>\n",
       "      <td>9.752209e+08</td>\n",
       "    </tr>\n",
       "    <tr>\n",
       "      <th>max</th>\n",
       "      <td>6.040000e+03</td>\n",
       "      <td>3.952000e+03</td>\n",
       "      <td>5.000000e+00</td>\n",
       "      <td>1.046455e+09</td>\n",
       "    </tr>\n",
       "  </tbody>\n",
       "</table>\n",
       "</div>"
      ],
      "text/plain": [
       "             UserId       MovieId        Rating     Timestamp\n",
       "count  1.000209e+06  1.000209e+06  1.000209e+06  1.000209e+06\n",
       "mean   3.024512e+03  1.865540e+03  3.581564e+00  9.722437e+08\n",
       "std    1.728413e+03  1.096041e+03  1.117102e+00  1.215256e+07\n",
       "min    1.000000e+00  1.000000e+00  1.000000e+00  9.567039e+08\n",
       "25%    1.506000e+03  1.030000e+03  3.000000e+00  9.653026e+08\n",
       "50%    3.070000e+03  1.835000e+03  4.000000e+00  9.730180e+08\n",
       "75%    4.476000e+03  2.770000e+03  4.000000e+00  9.752209e+08\n",
       "max    6.040000e+03  3.952000e+03  5.000000e+00  1.046455e+09"
      ]
     },
     "execution_count": 64,
     "metadata": {},
     "output_type": "execute_result"
    }
   ],
   "source": [
    "ratings.describe()"
   ]
  },
  {
   "cell_type": "markdown",
   "id": "6a1b73c2",
   "metadata": {},
   "source": [
    "Based on the plot, we can see that all users possess at least 20 ratings, which guarantees the accuracy of the CF method"
   ]
  },
  {
   "cell_type": "code",
   "execution_count": 65,
   "id": "a08cb170",
   "metadata": {},
   "outputs": [
    {
     "data": {
      "text/plain": [
       "UserId\n",
       "947     20\n",
       "4068    20\n",
       "2530    20\n",
       "341     20\n",
       "5258    20\n",
       "Name: Rating, dtype: int64"
      ]
     },
     "execution_count": 65,
     "metadata": {},
     "output_type": "execute_result"
    }
   ],
   "source": [
    "ratings.groupby('UserId')['Rating'].count().sort_values(ascending = True).head()"
   ]
  },
  {
   "cell_type": "code",
   "execution_count": 66,
   "id": "20afc1ec",
   "metadata": {},
   "outputs": [
    {
     "name": "stdout",
     "output_type": "stream",
     "text": [
      "6040 unqiue users\n",
      "3706 unique movies\n"
     ]
    }
   ],
   "source": [
    "n_users = ratings.UserId.unique().shape[0]\n",
    "n_movies = ratings.MovieId.unique().shape[0]\n",
    "print( str(n_users) + ' unqiue users')\n",
    "print( str(n_movies) + ' unique movies')"
   ]
  },
  {
   "cell_type": "markdown",
   "id": "5e646eba",
   "metadata": {},
   "source": [
    "Now I notice that althouth we have 3706 unique movies, the movies id ranges between 1 and 3952, which indicates that the movieId is not strictly corelated with indices, so further conversion is required before building the interaction matrix"
   ]
  },
  {
   "cell_type": "code",
   "execution_count": 67,
   "id": "c0c5c7c9",
   "metadata": {},
   "outputs": [],
   "source": [
    "user_to_index = {user_id: index for index, user_id in enumerate(ratings.UserId.unique())}\n",
    "movie_to_index = {movie_id: index for index, movie_id in enumerate(ratings.MovieId.unique())}\n",
    "index_to_movie = {index: movie_id for movie_id, index in movie_to_index.items()}"
   ]
  },
  {
   "cell_type": "markdown",
   "id": "4360b5d4",
   "metadata": {},
   "source": [
    "# Create Interaction Matrix"
   ]
  },
  {
   "cell_type": "code",
   "execution_count": 68,
   "id": "bf00dc76",
   "metadata": {},
   "outputs": [
    {
     "name": "stdout",
     "output_type": "stream",
     "text": [
      "[[5. 3. 3. ... 0. 0. 0.]\n",
      " [5. 0. 0. ... 0. 0. 0.]\n",
      " [4. 0. 0. ... 0. 0. 0.]\n",
      " ...\n",
      " [0. 0. 0. ... 0. 0. 0.]\n",
      " [0. 0. 0. ... 0. 0. 0.]\n",
      " [0. 0. 0. ... 0. 0. 0.]]\n"
     ]
    }
   ],
   "source": [
    "rows = ratings.UserId.map(user_to_index)\n",
    "cols = ratings.MovieId.map(movie_to_index)\n",
    "interaction = np.zeros((n_users, n_movies))\n",
    "for row in ratings.itertuples():\n",
    "    interaction[user_to_index[row[1]], movie_to_index[row[2]]] = row[3]\n",
    "print(interaction)"
   ]
  },
  {
   "cell_type": "markdown",
   "id": "81aedb45",
   "metadata": {},
   "source": [
    "# Sparsity Exploration"
   ]
  },
  {
   "cell_type": "code",
   "execution_count": 69,
   "id": "3ce0f794",
   "metadata": {},
   "outputs": [
    {
     "name": "stdout",
     "output_type": "stream",
     "text": [
      "1000209\n",
      "Sparsity of the interaction matrix: 0.9553\n"
     ]
    }
   ],
   "source": [
    "num_nonzero = len(interaction.nonzero()[0])\n",
    "print(num_nonzero)\n",
    "total_entries = interaction.shape[0] * interaction.shape[1]\n",
    "sparsity = 1 - (num_nonzero / total_entries)\n",
    "\n",
    "print(f\"Sparsity of the interaction matrix: {sparsity:.4f}\")"
   ]
  },
  {
   "cell_type": "markdown",
   "id": "a0ee1c31",
   "metadata": {},
   "source": [
    "I noticed that the sparsity is ranther high for the dataset, however in the first trial we are going to use cosine similarity directly on this matrix without further transformation such as dimensionality reduction or embedding"
   ]
  },
  {
   "cell_type": "markdown",
   "id": "7ad35c79",
   "metadata": {},
   "source": [
    "# Create Similarity Matrix"
   ]
  },
  {
   "cell_type": "code",
   "execution_count": 70,
   "id": "4ccc7e63",
   "metadata": {},
   "outputs": [],
   "source": [
    "rating_cosine_similarity = cosine_similarity(interaction)"
   ]
  },
  {
   "cell_type": "code",
   "execution_count": 71,
   "id": "14945eb1",
   "metadata": {},
   "outputs": [
    {
     "data": {
      "text/plain": [
       "array([1.        , 0.09638153, 0.11030329, ..., 0.        , 0.        ,\n",
       "       0.        ])"
      ]
     },
     "execution_count": 71,
     "metadata": {},
     "output_type": "execute_result"
    }
   ],
   "source": [
    "rating_cosine_similarity[0]"
   ]
  },
  {
   "cell_type": "markdown",
   "id": "cfd03e54",
   "metadata": {},
   "source": [
    "# Design Recommender Function"
   ]
  },
  {
   "cell_type": "code",
   "execution_count": 93,
   "id": "9c76e45c",
   "metadata": {},
   "outputs": [],
   "source": [
    "def movie_recommender(user_item_m, X_user, user, k=10, top_n=10):\n",
    "    # Get the location of the actual user in the User-Items matrix\n",
    "    # Use it to index the User similarity matrix\n",
    "    assert 6040 >= user >= 1\n",
    "    user_index = user_to_index[user]\n",
    "    user_similarities = X_user[user_index]\n",
    "    # obtain the indices of the top k most similar users\n",
    "    most_similar_users = user_item_m.index[user_similarities.argpartition(-k)[-k:]]\n",
    "    # Obtain the mean ratings of those users for all movies\n",
    "    rec_movies = user_item_m.loc[most_similar_users].mean(0).sort_values(ascending=False)\n",
    "    # Discard already seen movies\n",
    "    m_seen_movies = user_item_m.loc[user_index].gt(0)\n",
    "    seen_movies = m_seen_movies.index[m_seen_movies].tolist()\n",
    "    rec_movies = rec_movies.drop(seen_movies).head(top_n)\n",
    "    # return recommendations - top similar users rated movies\n",
    "    rec_movies_a=rec_movies.index.to_frame().reset_index(drop=True)\n",
    "    rec_movies_a.rename(columns={rec_movies_a.columns[0]: 'MovieId'}, inplace=True)\n",
    "    # since we use index to represent movie Id before, we need to convert indices back to movieId\n",
    "    rec_movies_a['MovieId'] = rec_movies_a['MovieId'].map(index_to_movie)\n",
    "    return rec_movies_a"
   ]
  },
  {
   "cell_type": "markdown",
   "id": "aceb7f20",
   "metadata": {},
   "source": [
    "# Recommend movie"
   ]
  },
  {
   "cell_type": "code",
   "execution_count": 73,
   "id": "502a8207",
   "metadata": {},
   "outputs": [],
   "source": [
    "interaction_df=pd.DataFrame(interaction)"
   ]
  },
  {
   "cell_type": "code",
   "execution_count": 98,
   "id": "7c78a73f",
   "metadata": {},
   "outputs": [
    {
     "data": {
      "text/html": [
       "<div>\n",
       "<style scoped>\n",
       "    .dataframe tbody tr th:only-of-type {\n",
       "        vertical-align: middle;\n",
       "    }\n",
       "\n",
       "    .dataframe tbody tr th {\n",
       "        vertical-align: top;\n",
       "    }\n",
       "\n",
       "    .dataframe thead th {\n",
       "        text-align: right;\n",
       "    }\n",
       "</style>\n",
       "<table border=\"1\" class=\"dataframe\">\n",
       "  <thead>\n",
       "    <tr style=\"text-align: right;\">\n",
       "      <th></th>\n",
       "      <th>MovieId</th>\n",
       "    </tr>\n",
       "  </thead>\n",
       "  <tbody>\n",
       "    <tr>\n",
       "      <th>0</th>\n",
       "      <td>2081</td>\n",
       "    </tr>\n",
       "    <tr>\n",
       "      <th>1</th>\n",
       "      <td>2078</td>\n",
       "    </tr>\n",
       "    <tr>\n",
       "      <th>2</th>\n",
       "      <td>364</td>\n",
       "    </tr>\n",
       "    <tr>\n",
       "      <th>3</th>\n",
       "      <td>2096</td>\n",
       "    </tr>\n",
       "    <tr>\n",
       "      <th>4</th>\n",
       "      <td>1282</td>\n",
       "    </tr>\n",
       "    <tr>\n",
       "      <th>5</th>\n",
       "      <td>596</td>\n",
       "    </tr>\n",
       "    <tr>\n",
       "      <th>6</th>\n",
       "      <td>2085</td>\n",
       "    </tr>\n",
       "    <tr>\n",
       "      <th>7</th>\n",
       "      <td>593</td>\n",
       "    </tr>\n",
       "    <tr>\n",
       "      <th>8</th>\n",
       "      <td>2137</td>\n",
       "    </tr>\n",
       "    <tr>\n",
       "      <th>9</th>\n",
       "      <td>34</td>\n",
       "    </tr>\n",
       "  </tbody>\n",
       "</table>\n",
       "</div>"
      ],
      "text/plain": [
       "   MovieId\n",
       "0     2081\n",
       "1     2078\n",
       "2      364\n",
       "3     2096\n",
       "4     1282\n",
       "5      596\n",
       "6     2085\n",
       "7      593\n",
       "8     2137\n",
       "9       34"
      ]
     },
     "execution_count": 98,
     "metadata": {},
     "output_type": "execute_result"
    }
   ],
   "source": [
    "user_ID=1\n",
    "rec_movie_df = movie_recommender(interaction_df, rating_cosine_similarity,user_ID)\n",
    "rec_movie_df"
   ]
  },
  {
   "cell_type": "markdown",
   "id": "a8488290",
   "metadata": {},
   "source": [
    "# Design a wrapper function"
   ]
  },
  {
   "cell_type": "markdown",
   "id": "090b7aa0",
   "metadata": {},
   "source": [
    "Use the wrapper function to automate the recommending sequence such that user only need to provide their name and the system is able to recommend movies based on user-based similarity"
   ]
  },
  {
   "cell_type": "code",
   "execution_count": 94,
   "id": "1469cb7d",
   "metadata": {},
   "outputs": [],
   "source": [
    "def movie_recommender_run(user_Id):\n",
    "    rec_movie_df = movie_recommender(interaction_df, rating_cosine_similarity,user_Id)\n",
    "    rec_movie_df = pd.merge(rec_movie_df, ratings, on='MovieId')\n",
    "    rec_movies = rec_movie_df.drop_duplicates(subset=['Title'])['Title']\n",
    "    return rec_movies"
   ]
  },
  {
   "cell_type": "code",
   "execution_count": 96,
   "id": "24d844f9",
   "metadata": {},
   "outputs": [
    {
     "data": {
      "text/plain": [
       "0              Lawrence of Arabia (1962)\n",
       "831         To Kill a Mockingbird (1962)\n",
       "1759             Bonnie and Clyde (1967)\n",
       "2445    Manchurian Candidate, The (1962)\n",
       "3210                   Roger & Me (1989)\n",
       "4008           African Queen, The (1951)\n",
       "5065                  Being There (1979)\n",
       "5656            American Graffiti (1973)\n",
       "6646            Kramer Vs. Kramer (1979)\n",
       "7098       Last Picture Show, The (1971)\n",
       "Name: Title, dtype: object"
      ]
     },
     "execution_count": 96,
     "metadata": {},
     "output_type": "execute_result"
    }
   ],
   "source": [
    "movie_recommender_run(6040)"
   ]
  },
  {
   "cell_type": "markdown",
   "id": "1781f8a1",
   "metadata": {},
   "source": []
  }
 ],
 "metadata": {
  "kernelspec": {
   "display_name": "Python 3 (ipykernel)",
   "language": "python",
   "name": "python3"
  },
  "language_info": {
   "codemirror_mode": {
    "name": "ipython",
    "version": 3
   },
   "file_extension": ".py",
   "mimetype": "text/x-python",
   "name": "python",
   "nbconvert_exporter": "python",
   "pygments_lexer": "ipython3",
   "version": "3.11.4"
  }
 },
 "nbformat": 4,
 "nbformat_minor": 5
}
